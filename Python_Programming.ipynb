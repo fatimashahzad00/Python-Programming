{
  "nbformat": 4,
  "nbformat_minor": 0,
  "metadata": {
    "colab": {
      "provenance": [],
      "toc_visible": true,
      "authorship_tag": "ABX9TyOWy6Pj0zjVgwogAs5lDKIm",
      "include_colab_link": true
    },
    "kernelspec": {
      "name": "python3",
      "display_name": "Python 3"
    },
    "language_info": {
      "name": "python"
    }
  },
  "cells": [
    {
      "cell_type": "markdown",
      "metadata": {
        "id": "view-in-github",
        "colab_type": "text"
      },
      "source": [
        "<a href=\"https://colab.research.google.com/github/fatimashahzad00/Python-Programming/blob/main/Python_Programming.ipynb\" target=\"_parent\"><img src=\"https://colab.research.google.com/assets/colab-badge.svg\" alt=\"Open In Colab\"/></a>"
      ]
    },
    {
      "cell_type": "code",
      "execution_count": null,
      "metadata": {
        "colab": {
          "base_uri": "https://localhost:8080/"
        },
        "id": "VC-NssX7btSh",
        "outputId": "0e9f5883-52c1-4a8a-e462-166f098bc5ff"
      },
      "outputs": [
        {
          "output_type": "stream",
          "name": "stdout",
          "text": [
            "Hello World\n"
          ]
        }
      ],
      "source": [
        "print(\"Hello World\")"
      ]
    },
    {
      "cell_type": "code",
      "source": [
        "print(200)"
      ],
      "metadata": {
        "colab": {
          "base_uri": "https://localhost:8080/"
        },
        "id": "pwOdZ1CMcqps",
        "outputId": "15f9d21f-728d-4fcd-89a0-f81ac80c5413"
      },
      "execution_count": null,
      "outputs": [
        {
          "output_type": "stream",
          "name": "stdout",
          "text": [
            "200\n"
          ]
        }
      ]
    },
    {
      "cell_type": "code",
      "source": [
        "name = \"Iqra\"\n",
        "age = 25"
      ],
      "metadata": {
        "id": "Fg4BT77sgTby"
      },
      "execution_count": null,
      "outputs": []
    },
    {
      "cell_type": "code",
      "source": [
        "print(name)\n",
        "print(age/10)"
      ],
      "metadata": {
        "colab": {
          "base_uri": "https://localhost:8080/"
        },
        "id": "bTAht_NoglNp",
        "outputId": "d1b05bbc-6b8b-4a57-8deb-0e1511768150"
      },
      "execution_count": null,
      "outputs": [
        {
          "output_type": "stream",
          "name": "stdout",
          "text": [
            "Iqra\n",
            "2.5\n"
          ]
        }
      ]
    },
    {
      "cell_type": "code",
      "source": [
        "result_of_computation = ((2 * 4) * 4) + 2\n",
        "print(result_of_computation)"
      ],
      "metadata": {
        "id": "p9YDf0BPTR4m"
      },
      "execution_count": null,
      "outputs": []
    },
    {
      "cell_type": "code",
      "source": [
        "name = \"Fatima\"\n",
        "print(3*4)\n",
        "print(3-2)\n",
        "print(5+2)\n",
        "print(2/20)"
      ],
      "metadata": {
        "id": "4peXB7YlTUgO"
      },
      "execution_count": null,
      "outputs": []
    },
    {
      "cell_type": "code",
      "source": [
        "age = 25\n",
        "age += 1\n",
        "print(age)"
      ],
      "metadata": {
        "id": "Twlt_OowTVRN"
      },
      "execution_count": null,
      "outputs": []
    },
    {
      "cell_type": "code",
      "source": [],
      "metadata": {
        "id": "dYdxECdHs7lg"
      },
      "execution_count": null,
      "outputs": []
    },
    {
      "cell_type": "markdown",
      "source": [
        "# **Dictionaries**"
      ],
      "metadata": {
        "id": "dH8abekQTbFe"
      }
    },
    {
      "cell_type": "code",
      "source": [
        "person = {\n",
        "    'name': 'John',\n",
        "    'age': 30,\n",
        "    'city': {\n",
        "        'name': 'New York',\n",
        "        'country': 'USA'\n",
        "    }\n",
        "}\n",
        "print(person)"
      ],
      "metadata": {
        "colab": {
          "base_uri": "https://localhost:8080/"
        },
        "id": "afUFheSETfw2",
        "outputId": "bd479e17-c886-434f-a01c-26dd15b81cd1"
      },
      "execution_count": null,
      "outputs": [
        {
          "output_type": "stream",
          "name": "stdout",
          "text": [
            "{'name': 'John', 'age': 30, 'city': {'name': 'New York', 'country': 'USA'}}\n"
          ]
        }
      ]
    },
    {
      "cell_type": "code",
      "source": [
        "person['gender'] = 'male'\n",
        "person['age'] = 31\n",
        "person['education'] = {\n",
        "    'degree': 'Bachelor of Science',\n",
        "    'major': 'Computer Science'\n",
        "}\n",
        "print(person)"
      ],
      "metadata": {
        "colab": {
          "base_uri": "https://localhost:8080/"
        },
        "id": "oR1SA1ipT-Vv",
        "outputId": "0a2e5f83-e6c7-46e9-bdf3-98332d7b8965"
      },
      "execution_count": null,
      "outputs": [
        {
          "output_type": "stream",
          "name": "stdout",
          "text": [
            "{'name': 'John', 'age': 31, 'city': {'name': 'New York', 'country': 'USA'}, 'gender': 'male', 'education': {'degree': 'Bachelor of Science', 'major': 'Computer Science'}}\n"
          ]
        }
      ]
    },
    {
      "cell_type": "code",
      "source": [
        "print(person['age'])\n",
        "print(person['city']['name'])"
      ],
      "metadata": {
        "colab": {
          "base_uri": "https://localhost:8080/"
        },
        "id": "gmMNJMmZUB9O",
        "outputId": "43592684-21da-459d-eda9-e05593ec5e83"
      },
      "execution_count": null,
      "outputs": [
        {
          "output_type": "stream",
          "name": "stdout",
          "text": [
            "31\n",
            "New York\n"
          ]
        }
      ]
    },
    {
      "cell_type": "code",
      "source": [
        "students = {\n",
        "    0: {\n",
        "        'name': 'John',\n",
        "        'age': 20,\n",
        "        'grade': 'A'\n",
        "    },\n",
        "    1: {\n",
        "        'name': 'Jane',\n",
        "        'age': 21,\n",
        "        'grade': 'B'\n",
        "    },\n",
        "    3: {\n",
        "        'name': 'Bob',\n",
        "        'age': 22,\n",
        "        'grade': 'C'\n",
        "    },\n",
        "    4: 'none'\n",
        "}\n",
        "print(students)"
      ],
      "metadata": {
        "colab": {
          "base_uri": "https://localhost:8080/"
        },
        "id": "v7agZofcUHG_",
        "outputId": "7b8dc96a-e530-47a7-feb5-194a487dd049"
      },
      "execution_count": null,
      "outputs": [
        {
          "output_type": "stream",
          "name": "stdout",
          "text": [
            "{0: {'name': 'John', 'age': 20, 'grade': 'A'}, 1: {'name': 'Jane', 'age': 21, 'grade': 'B'}, 3: {'name': 'Bob', 'age': 22, 'grade': 'C'}, 4: 'none'}\n"
          ]
        }
      ]
    },
    {
      "cell_type": "code",
      "source": [
        "print(students[1]['name'])\n",
        "del students[1]\n",
        "print(students)"
      ],
      "metadata": {
        "colab": {
          "base_uri": "https://localhost:8080/"
        },
        "id": "8Onkn6fyUJkO",
        "outputId": "4ccd2f29-083b-4bbb-d4e2-132397da7f47"
      },
      "execution_count": null,
      "outputs": [
        {
          "output_type": "stream",
          "name": "stdout",
          "text": [
            "Jane\n",
            "{0: {'name': 'John', 'age': 20, 'grade': 'A'}, 3: {'name': 'Bob', 'age': 22, 'grade': 'C'}, 4: 'none'}\n"
          ]
        }
      ]
    },
    {
      "cell_type": "code",
      "source": [
        "for abcd in person.values():\n",
        "    print(abcd)"
      ],
      "metadata": {
        "colab": {
          "base_uri": "https://localhost:8080/"
        },
        "id": "XYS_KBFEZLIO",
        "outputId": "3855e70c-7f0d-4f4b-af7e-bb30830be07f"
      },
      "execution_count": null,
      "outputs": [
        {
          "output_type": "stream",
          "name": "stdout",
          "text": [
            "John\n",
            "31\n",
            "{'name': 'New York', 'country': 'USA'}\n",
            "male\n",
            "{'degree': 'Bachelor of Science', 'major': 'Computer Science'}\n"
          ]
        }
      ]
    },
    {
      "cell_type": "code",
      "source": [
        "for each_key in students:\n",
        "    print(str(each_key), students[each_key])"
      ],
      "metadata": {
        "colab": {
          "base_uri": "https://localhost:8080/"
        },
        "id": "Pe_ZqgKRZ4D9",
        "outputId": "5cc9ae7c-ad0b-45da-b3ba-4b39cc4ee47c"
      },
      "execution_count": null,
      "outputs": [
        {
          "output_type": "stream",
          "name": "stdout",
          "text": [
            "0 {'name': 'John', 'age': 20, 'grade': 'A'}\n",
            "1 {'name': 'Jane', 'age': 21, 'grade': 'B'}\n",
            "3 {'name': 'Bob', 'age': 22, 'grade': 'C'}\n",
            "4 none\n"
          ]
        }
      ]
    },
    {
      "cell_type": "code",
      "source": [
        "for a, b in students.items():\n",
        "    print(a, b)"
      ],
      "metadata": {
        "colab": {
          "base_uri": "https://localhost:8080/"
        },
        "id": "SX1GtM7nah64",
        "outputId": "c78a842e-d9fd-40f7-ca05-deabf080ec4f"
      },
      "execution_count": null,
      "outputs": [
        {
          "output_type": "stream",
          "name": "stdout",
          "text": [
            "0 {'name': 'John', 'age': 20, 'grade': 'A'}\n",
            "1 {'name': 'Jane', 'age': 21, 'grade': 'B'}\n",
            "3 {'name': 'Bob', 'age': 22, 'grade': 'C'}\n",
            "4 none\n"
          ]
        }
      ]
    },
    {
      "cell_type": "code",
      "source": [
        "students_list = [\n",
        "    {\n",
        "        'name': 'John',\n",
        "        'age': 20,\n",
        "        'grade': 'A'\n",
        "    },\n",
        "    {\n",
        "        'name': 'Jane',\n",
        "        'age': 21,\n",
        "        'grade': 'B'\n",
        "    },\n",
        "    {\n",
        "      'name': 'Bob',\n",
        "      'age': 22,\n",
        "      'grade': 'C'\n",
        "    },\n",
        "    {\n",
        "        'name': 'Alice',\n",
        "        'age': 23,\n",
        "        'grade': 'D'\n",
        "    }\n",
        "]"
      ],
      "metadata": {
        "colab": {
          "base_uri": "https://localhost:8080/"
        },
        "id": "L1Exe04naq2l",
        "outputId": "6c174da8-b826-4abd-db92-d50de66e0913"
      },
      "execution_count": null,
      "outputs": [
        {
          "output_type": "stream",
          "name": "stdout",
          "text": [
            "John\n"
          ]
        }
      ]
    },
    {
      "cell_type": "code",
      "source": [
        "new_dicitionary = {\n",
        "    'name': 'Eve',\n",
        "    'age': 24,\n",
        "    'grade': 'E'\n",
        "}\n",
        "students_list.append(new_dicitionary)\n",
        "print(students_list)\n"
      ],
      "metadata": {
        "colab": {
          "base_uri": "https://localhost:8080/"
        },
        "id": "9YHzsOKza_pu",
        "outputId": "6b5f3d3e-9899-498b-ecdc-fbaa270f4f66"
      },
      "execution_count": null,
      "outputs": [
        {
          "output_type": "stream",
          "name": "stdout",
          "text": [
            "[{'name': 'John', 'age': 20, 'grade': 'A'}, {'name': 'Jane', 'age': 21, 'grade': 'B'}, {'name': 'Bob', 'age': 22, 'grade': 'C'}, {'name': 'Alice', 'age': 23, 'grade': 'D'}, {'name': 'Eve', 'age': 24, 'grade': 'E'}]\n"
          ]
        }
      ]
    },
    {
      "cell_type": "code",
      "source": [
        "# prompt: create a dictionary that also contains lists\n",
        "\n",
        "my_dict = {\n",
        "    'names': ['Alice', 'Bob', 'Charlie'],\n",
        "    'ages': [25, 30, 28],\n",
        "    'cities': ['New York', 'London', 'Paris']\n",
        "}\n",
        "print(my_dict)\n"
      ],
      "metadata": {
        "colab": {
          "base_uri": "https://localhost:8080/"
        },
        "id": "2dgsThF3uXwX",
        "outputId": "86410e17-709e-4558-f068-18b5bf69e756"
      },
      "execution_count": 1,
      "outputs": [
        {
          "output_type": "stream",
          "name": "stdout",
          "text": [
            "{'names': ['Alice', 'Bob', 'Charlie'], 'ages': [25, 30, 28], 'cities': ['New York', 'London', 'Paris']}\n"
          ]
        }
      ]
    },
    {
      "cell_type": "code",
      "source": [
        "# prompt: how to get information out of a dictionary within another dictionary\n",
        "\n",
        "print(person['city']['name'])\n"
      ],
      "metadata": {
        "id": "7WJdcs-lvWcG"
      },
      "execution_count": null,
      "outputs": []
    },
    {
      "cell_type": "markdown",
      "source": [
        "# **Function 17-09-2024**"
      ],
      "metadata": {
        "id": "SS1yKA2LwwnH"
      }
    },
    {
      "cell_type": "code",
      "source": [
        "def add_numbers(a, b):\n",
        "    return a + b\n",
        "\n",
        "result = add_numbers(3, 4)\n",
        "print(result)"
      ],
      "metadata": {
        "colab": {
          "base_uri": "https://localhost:8080/"
        },
        "id": "PHwTUV8awKx2",
        "outputId": "81fa6f4d-4e9e-446e-d952-9cd56a39c6f5"
      },
      "execution_count": 2,
      "outputs": [
        {
          "output_type": "stream",
          "name": "stdout",
          "text": [
            "7\n"
          ]
        }
      ]
    },
    {
      "cell_type": "code",
      "source": [
        "def add_numbers():\n",
        "  fn = 2\n",
        "  sn = 3\n",
        "  total = fn + sn\n",
        "  print(total)\n",
        "\n",
        "  add_numbers()"
      ],
      "metadata": {
        "id": "uo1SrJGvwXh9"
      },
      "execution_count": 3,
      "outputs": []
    },
    {
      "cell_type": "code",
      "source": [
        "# prompt: functions passing them information\n",
        "\n",
        "def greet(name):\n",
        "  \"\"\"This function greets the person passed in as a parameter.\"\"\"\n",
        "  print(\"Hello, \" + name + \"!\")\n",
        "\n",
        "greet(\"Iqra\")\n"
      ],
      "metadata": {
        "colab": {
          "base_uri": "https://localhost:8080/"
        },
        "id": "jV-RVElXwpuG",
        "outputId": "9ab72ee4-59d2-49ce-b819-8598e2fdddfa"
      },
      "execution_count": 4,
      "outputs": [
        {
          "output_type": "stream",
          "name": "stdout",
          "text": [
            "Hello, Iqra!\n"
          ]
        }
      ]
    },
    {
      "cell_type": "code",
      "source": [
        "# prompt: functions passing them information a different way\n",
        "\n",
        "# Function with default arguments\n",
        "def greet_with_default(name=\"World\"):\n",
        "  \"\"\"This function greets the person passed in as a parameter. If no name is provided, it greets the world.\"\"\"\n",
        "  print(\"Hello, \" + name + \"!\")\n",
        "\n",
        "greet_with_default()  # Output: Hello, World!\n",
        "greet_with_default(\"Iqra\")  # Output: Hello, Iqra!\n",
        "\n",
        "\n",
        "# Function with keyword arguments\n",
        "def describe_pet(animal_type, pet_name):\n",
        "  \"\"\"This function displays information about a pet.\"\"\"\n",
        "  print(\"I have a \" + animal_type + \".\")\n",
        "  print(\"My \" + animal_type + \"'s name is \" + pet_name + \".\")\n",
        "\n",
        "describe_pet(pet_name=\"Whiskers\", animal_type=\"cat\")  # Output: I have a cat. My cat's name is Whiskers.\n",
        "\n",
        "\n",
        "# Function with arbitrary arguments\n",
        "def print_ingredients(*ingredients):\n",
        "  \"\"\"This function prints all the ingredients passed to it.\"\"\"\n",
        "  print(\"The ingredients are:\")\n",
        "  for ingredient in ingredients:\n",
        "    print(ingredient)\n",
        "\n",
        "print_ingredients(\"flour\", \"sugar\", \"eggs\", \"butter\")\n",
        "\n",
        "\n",
        "# Function with arbitrary keyword arguments\n",
        "def build_profile(first, last, **user_info):\n",
        "  \"\"\"This function builds a dictionary containing everything we know about a user.\"\"\"\n",
        "  profile = {}\n",
        "  profile[\"first_name\"] = first\n",
        "  profile[\"last_name\"] = last\n",
        "  for key, value in user_info.items():\n",
        "    profile[key] = value\n",
        "  return profile\n",
        "\n",
        "user_profile = build_profile(\"Iqra\", \"Khan\", location=\"Karachi\", field=\"Computer Science\")\n",
        "print(user_profile)\n"
      ],
      "metadata": {
        "colab": {
          "base_uri": "https://localhost:8080/"
        },
        "id": "foNWdJ_xxFrT",
        "outputId": "901aba41-453e-4078-97d6-4e086f0c96f0"
      },
      "execution_count": 5,
      "outputs": [
        {
          "output_type": "stream",
          "name": "stdout",
          "text": [
            "Hello, World!\n",
            "Hello, Iqra!\n",
            "I have a cat.\n",
            "My cat's name is Whiskers.\n",
            "The ingredients are:\n",
            "flour\n",
            "sugar\n",
            "eggs\n",
            "butter\n",
            "{'first_name': 'Iqra', 'last_name': 'Khan', 'location': 'Karachi', 'field': 'Computer Science'}\n"
          ]
        }
      ]
    },
    {
      "cell_type": "markdown",
      "source": [
        "# **Classes 17-09-2024**"
      ],
      "metadata": {
        "id": "q3TSZR5bzc-y"
      }
    },
    {
      "cell_type": "code",
      "source": [
        "class Patient:\n",
        "  \"\"\"\n",
        "  A class to represent a patient.\n",
        "  \"\"\"\n",
        "  def __init__(self, name, age, gender):\n",
        "    self.name = name\n",
        "    self.age = age\n",
        "    self.gender = gender\n",
        "\n",
        "  def display_info(self):\n",
        "    print(f\"Name: {self.name}\")\n",
        "    print(f\"Age: {self.age}\")\n",
        "    print(f\"Gender: {self.gender}\")\n",
        "\n",
        "# Create a Patient object\n",
        "patient1 = Patient(\"John Doe\", 30, \"Male\")\n",
        "\n",
        "# Display the patient's information\n",
        "patient1.display_info()\n"
      ],
      "metadata": {
        "colab": {
          "base_uri": "https://localhost:8080/"
        },
        "id": "Gv7AKFLWzlpv",
        "outputId": "4f7e2092-726b-49b4-8a89-8293c7e21eb3"
      },
      "execution_count": 6,
      "outputs": [
        {
          "output_type": "stream",
          "name": "stdout",
          "text": [
            "Name: John Doe\n",
            "Age: 30\n",
            "Gender: Male\n"
          ]
        }
      ]
    },
    {
      "cell_type": "code",
      "source": [
        "# Create another Patient object\n",
        "patient2 = Patient(\"Jane Doe\", 25, \"Female\")\n",
        "\n",
        "# Display the patient's information\n",
        "patient2.display_info()\n"
      ],
      "metadata": {
        "colab": {
          "base_uri": "https://localhost:8080/"
        },
        "id": "0InowYoi0wRW",
        "outputId": "297aa527-8c3d-4f3d-a51a-94f7a3757f51"
      },
      "execution_count": 7,
      "outputs": [
        {
          "output_type": "stream",
          "name": "stdout",
          "text": [
            "Name: Jane Doe\n",
            "Age: 25\n",
            "Gender: Female\n"
          ]
        }
      ]
    },
    {
      "cell_type": "code",
      "source": [
        "print(patient1.name)  # Output: John Doe\n",
        "print(patient2.age)   # Output: 25\n"
      ],
      "metadata": {
        "colab": {
          "base_uri": "https://localhost:8080/"
        },
        "id": "F96FK6t-1KTt",
        "outputId": "8868d348-5e81-4174-c367-77853daeda02"
      },
      "execution_count": 8,
      "outputs": [
        {
          "output_type": "stream",
          "name": "stdout",
          "text": [
            "John Doe\n",
            "25\n"
          ]
        }
      ]
    },
    {
      "cell_type": "code",
      "source": [
        "class Patient:\n",
        "  def __init__(self, name, age, gender):\n",
        "    self.name = name\n",
        "    self.age = age\n",
        "    self.gender = gender\n",
        "    self.is_admitted = False  # Initially, the patient is not admitted\n",
        "\n",
        "  def display_info(self):\n",
        "    print(f\"Name: {self.name}\")\n",
        "    print(f\"Age: {self.age}\")\n",
        "    print(f\"Gender: {self.gender}\")\n",
        "    if self.is_admitted:\n",
        "      print(\"Patient is currently admitted.\")\n",
        "    else:\n",
        "      print(\"Patient is not admitted.\")\n",
        "\n",
        "  def admit_patient(self):\n",
        "    if not self.is_admitted:\n",
        "      self.is_admitted = True\n",
        "      print(f\"{self.name} has been admitted.\")\n",
        "    else:\n",
        "      print(f\"{self.name} is already admitted.\")\n",
        "\n",
        "  def discharge_patient(self):\n",
        "    if self.is_admitted:\n",
        "      self.is_admitted = False\n",
        "      print(f\"{self.name} has been discharged.\")\n",
        "    else:\n",
        "      print(f\"{self.name} is not currently admitted.\")\n",
        "\n",
        "# Create a Patient object\n",
        "patient1 = Patient(\"John Doe\", 30, \"Male\")\n",
        "\n",
        "# Display the patient's information\n",
        "patient1.display_info()\n",
        "\n",
        "# Admit the patient\n",
        "patient1.admit_patient()\n",
        "\n",
        "# Display the patient's information again\n",
        "patient1.display_info()\n",
        "\n",
        "# Discharge the patient\n",
        "patient1.discharge_patient()\n",
        "\n",
        "# Display the patient's information again\n",
        "patient1.display_info()\n"
      ],
      "metadata": {
        "colab": {
          "base_uri": "https://localhost:8080/"
        },
        "id": "joEqy8El1dA2",
        "outputId": "4d226d84-6ae7-4a39-9eb6-89a59942a228"
      },
      "execution_count": 9,
      "outputs": [
        {
          "output_type": "stream",
          "name": "stdout",
          "text": [
            "Name: John Doe\n",
            "Age: 30\n",
            "Gender: Male\n",
            "Patient is not admitted.\n",
            "John Doe has been admitted.\n",
            "Name: John Doe\n",
            "Age: 30\n",
            "Gender: Male\n",
            "Patient is currently admitted.\n",
            "John Doe has been discharged.\n",
            "Name: John Doe\n",
            "Age: 30\n",
            "Gender: Male\n",
            "Patient is not admitted.\n"
          ]
        }
      ]
    },
    {
      "cell_type": "code",
      "source": [
        "class Dog:\n",
        "\n",
        "  def __init__(self, name, age):\n",
        "    \"\"\"Initialize name and age attributes.\"\"\"\n",
        "    self.name = name\n",
        "    self.age = age\n",
        "\n",
        "  def sit(self):\n",
        "    \"\"\"Simulate a dog sitting in response to a command.\"\"\"\n",
        "    print(f\"{self.name} is now sitting.\")\n",
        "\n",
        "  def roll_over(self):\n",
        "    \"\"\"Simulate a dog rolling over in response to a command.\"\"\"\n",
        "    print(f\"{self.name} rolled over!\")\n",
        "\n",
        "# Create an instance of the Dog class\n",
        "my_dog = Dog(\"Willie\", 6)\n",
        "\n",
        "# Call methods on the instance\n",
        "my_dog.sit()\n",
        "my_dog.roll_over()\n"
      ],
      "metadata": {
        "colab": {
          "base_uri": "https://localhost:8080/"
        },
        "id": "ahdG972h2HLl",
        "outputId": "4767b681-8e8d-40be-c98b-b593bf5e7162"
      },
      "execution_count": 10,
      "outputs": [
        {
          "output_type": "stream",
          "name": "stdout",
          "text": [
            "Willie is now sitting.\n",
            "Willie rolled over!\n"
          ]
        }
      ]
    },
    {
      "cell_type": "code",
      "source": [
        "class Dog:\n",
        "\n",
        "  def __init__(self, name, age):\n",
        "    \"\"\"Initialize name and age attributes.\"\"\"\n",
        "    self.name = name\n",
        "    self.age = age\n",
        "\n",
        "  def sit(self):\n",
        "    \"\"\"Simulate a dog sitting in response to a command.\"\"\"\n",
        "    print(f\"{self.name} is now sitting.\")\n",
        "\n",
        "  def roll_over(self):\n",
        "    \"\"\"Simulate a dog rolling over in response to a command.\"\"\"\n",
        "    print(f\"{self.name} rolled over!\")\n",
        "\n",
        "# Create an instance of the Dog class\n",
        "my_dog = Dog(\"Willie\", 6)\n",
        "\n",
        "# Access and modify the age attribute\n",
        "print(f\"My dog is {my_dog.age} years old.\")\n",
        "my_dog.age = 7\n",
        "print(f\"My dog is now {my_dog.age} years old.\")\n"
      ],
      "metadata": {
        "id": "i2B-NwtH2tOV"
      },
      "execution_count": null,
      "outputs": []
    }
  ]
}