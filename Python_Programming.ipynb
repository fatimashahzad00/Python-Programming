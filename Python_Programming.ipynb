{
  "nbformat": 4,
  "nbformat_minor": 0,
  "metadata": {
    "colab": {
      "provenance": [],
      "toc_visible": true,
      "authorship_tag": "ABX9TyNqR4bWk0echVwNpWv7yz37",
      "include_colab_link": true
    },
    "kernelspec": {
      "name": "python3",
      "display_name": "Python 3"
    },
    "language_info": {
      "name": "python"
    }
  },
  "cells": [
    {
      "cell_type": "markdown",
      "metadata": {
        "id": "view-in-github",
        "colab_type": "text"
      },
      "source": [
        "<a href=\"https://colab.research.google.com/github/fatimashahzad00/Python-Programming/blob/main/Python_Programming.ipynb\" target=\"_parent\"><img src=\"https://colab.research.google.com/assets/colab-badge.svg\" alt=\"Open In Colab\"/></a>"
      ]
    },
    {
      "cell_type": "code",
      "execution_count": null,
      "metadata": {
        "colab": {
          "base_uri": "https://localhost:8080/"
        },
        "id": "VC-NssX7btSh",
        "outputId": "0e9f5883-52c1-4a8a-e462-166f098bc5ff"
      },
      "outputs": [
        {
          "output_type": "stream",
          "name": "stdout",
          "text": [
            "Hello World\n"
          ]
        }
      ],
      "source": [
        "print(\"Hello World\")"
      ]
    },
    {
      "cell_type": "code",
      "source": [
        "print(200)"
      ],
      "metadata": {
        "colab": {
          "base_uri": "https://localhost:8080/"
        },
        "id": "pwOdZ1CMcqps",
        "outputId": "15f9d21f-728d-4fcd-89a0-f81ac80c5413"
      },
      "execution_count": null,
      "outputs": [
        {
          "output_type": "stream",
          "name": "stdout",
          "text": [
            "200\n"
          ]
        }
      ]
    },
    {
      "cell_type": "code",
      "source": [
        "name = \"Iqra\"\n",
        "age = 25"
      ],
      "metadata": {
        "id": "Fg4BT77sgTby"
      },
      "execution_count": null,
      "outputs": []
    },
    {
      "cell_type": "code",
      "source": [
        "print(name)\n",
        "print(age/10)"
      ],
      "metadata": {
        "colab": {
          "base_uri": "https://localhost:8080/"
        },
        "id": "bTAht_NoglNp",
        "outputId": "d1b05bbc-6b8b-4a57-8deb-0e1511768150"
      },
      "execution_count": null,
      "outputs": [
        {
          "output_type": "stream",
          "name": "stdout",
          "text": [
            "Iqra\n",
            "2.5\n"
          ]
        }
      ]
    },
    {
      "cell_type": "code",
      "source": [
        "result_of_computation = ((2 * 4) * 4) + 2\n",
        "print(result_of_computation)"
      ],
      "metadata": {
        "id": "p9YDf0BPTR4m"
      },
      "execution_count": null,
      "outputs": []
    },
    {
      "cell_type": "code",
      "source": [
        "name = \"Fatima\"\n",
        "print(3*4)\n",
        "print(3-2)\n",
        "print(5+2)\n",
        "print(2/20)"
      ],
      "metadata": {
        "id": "4peXB7YlTUgO"
      },
      "execution_count": null,
      "outputs": []
    },
    {
      "cell_type": "code",
      "source": [
        "age = 25\n",
        "age += 1\n",
        "print(age)"
      ],
      "metadata": {
        "id": "Twlt_OowTVRN"
      },
      "execution_count": null,
      "outputs": []
    },
    {
      "cell_type": "markdown",
      "source": [
        "# **Dictionaries**"
      ],
      "metadata": {
        "id": "dH8abekQTbFe"
      }
    },
    {
      "cell_type": "code",
      "source": [
        "person = {\n",
        "    'name': 'John',\n",
        "    'age': 30,\n",
        "    'city': {\n",
        "        'name': 'New York',\n",
        "        'country': 'USA'\n",
        "    }\n",
        "}\n",
        "print(person)"
      ],
      "metadata": {
        "colab": {
          "base_uri": "https://localhost:8080/"
        },
        "id": "afUFheSETfw2",
        "outputId": "bd479e17-c886-434f-a01c-26dd15b81cd1"
      },
      "execution_count": null,
      "outputs": [
        {
          "output_type": "stream",
          "name": "stdout",
          "text": [
            "{'name': 'John', 'age': 30, 'city': {'name': 'New York', 'country': 'USA'}}\n"
          ]
        }
      ]
    },
    {
      "cell_type": "code",
      "source": [
        "person['gender'] = 'male'\n",
        "person['age'] = 31\n",
        "person['education'] = {\n",
        "    'degree': 'Bachelor of Science',\n",
        "    'major': 'Computer Science'\n",
        "}\n",
        "print(person)"
      ],
      "metadata": {
        "colab": {
          "base_uri": "https://localhost:8080/"
        },
        "id": "oR1SA1ipT-Vv",
        "outputId": "0a2e5f83-e6c7-46e9-bdf3-98332d7b8965"
      },
      "execution_count": null,
      "outputs": [
        {
          "output_type": "stream",
          "name": "stdout",
          "text": [
            "{'name': 'John', 'age': 31, 'city': {'name': 'New York', 'country': 'USA'}, 'gender': 'male', 'education': {'degree': 'Bachelor of Science', 'major': 'Computer Science'}}\n"
          ]
        }
      ]
    },
    {
      "cell_type": "code",
      "source": [
        "print(person['age'])\n",
        "print(person['city']['name'])"
      ],
      "metadata": {
        "colab": {
          "base_uri": "https://localhost:8080/"
        },
        "id": "gmMNJMmZUB9O",
        "outputId": "43592684-21da-459d-eda9-e05593ec5e83"
      },
      "execution_count": null,
      "outputs": [
        {
          "output_type": "stream",
          "name": "stdout",
          "text": [
            "31\n",
            "New York\n"
          ]
        }
      ]
    },
    {
      "cell_type": "code",
      "source": [
        "students = {\n",
        "    0: {\n",
        "        'name': 'John',\n",
        "        'age': 20,\n",
        "        'grade': 'A'\n",
        "    },\n",
        "    1: {\n",
        "        'name': 'Jane',\n",
        "        'age': 21,\n",
        "        'grade': 'B'\n",
        "    },\n",
        "    3: {\n",
        "        'name': 'Bob',\n",
        "        'age': 22,\n",
        "        'grade': 'C'\n",
        "    },\n",
        "    4: 'none'\n",
        "}\n",
        "print(students)"
      ],
      "metadata": {
        "colab": {
          "base_uri": "https://localhost:8080/"
        },
        "id": "v7agZofcUHG_",
        "outputId": "7b8dc96a-e530-47a7-feb5-194a487dd049"
      },
      "execution_count": null,
      "outputs": [
        {
          "output_type": "stream",
          "name": "stdout",
          "text": [
            "{0: {'name': 'John', 'age': 20, 'grade': 'A'}, 1: {'name': 'Jane', 'age': 21, 'grade': 'B'}, 3: {'name': 'Bob', 'age': 22, 'grade': 'C'}, 4: 'none'}\n"
          ]
        }
      ]
    },
    {
      "cell_type": "code",
      "source": [
        "print(students[1]['name'])\n",
        "del students[1]\n",
        "print(students)"
      ],
      "metadata": {
        "colab": {
          "base_uri": "https://localhost:8080/"
        },
        "id": "8Onkn6fyUJkO",
        "outputId": "4ccd2f29-083b-4bbb-d4e2-132397da7f47"
      },
      "execution_count": null,
      "outputs": [
        {
          "output_type": "stream",
          "name": "stdout",
          "text": [
            "Jane\n",
            "{0: {'name': 'John', 'age': 20, 'grade': 'A'}, 3: {'name': 'Bob', 'age': 22, 'grade': 'C'}, 4: 'none'}\n"
          ]
        }
      ]
    },
    {
      "cell_type": "code",
      "source": [
        "for abcd in person.values():\n",
        "    print(abcd)"
      ],
      "metadata": {
        "colab": {
          "base_uri": "https://localhost:8080/"
        },
        "id": "XYS_KBFEZLIO",
        "outputId": "3855e70c-7f0d-4f4b-af7e-bb30830be07f"
      },
      "execution_count": null,
      "outputs": [
        {
          "output_type": "stream",
          "name": "stdout",
          "text": [
            "John\n",
            "31\n",
            "{'name': 'New York', 'country': 'USA'}\n",
            "male\n",
            "{'degree': 'Bachelor of Science', 'major': 'Computer Science'}\n"
          ]
        }
      ]
    },
    {
      "cell_type": "code",
      "source": [
        "for each_key in students:\n",
        "    print(str(each_key), students[each_key])"
      ],
      "metadata": {
        "colab": {
          "base_uri": "https://localhost:8080/"
        },
        "id": "Pe_ZqgKRZ4D9",
        "outputId": "5cc9ae7c-ad0b-45da-b3ba-4b39cc4ee47c"
      },
      "execution_count": null,
      "outputs": [
        {
          "output_type": "stream",
          "name": "stdout",
          "text": [
            "0 {'name': 'John', 'age': 20, 'grade': 'A'}\n",
            "1 {'name': 'Jane', 'age': 21, 'grade': 'B'}\n",
            "3 {'name': 'Bob', 'age': 22, 'grade': 'C'}\n",
            "4 none\n"
          ]
        }
      ]
    },
    {
      "cell_type": "code",
      "source": [
        "for a, b in students.items():\n",
        "    print(a, b)"
      ],
      "metadata": {
        "colab": {
          "base_uri": "https://localhost:8080/"
        },
        "id": "SX1GtM7nah64",
        "outputId": "c78a842e-d9fd-40f7-ca05-deabf080ec4f"
      },
      "execution_count": null,
      "outputs": [
        {
          "output_type": "stream",
          "name": "stdout",
          "text": [
            "0 {'name': 'John', 'age': 20, 'grade': 'A'}\n",
            "1 {'name': 'Jane', 'age': 21, 'grade': 'B'}\n",
            "3 {'name': 'Bob', 'age': 22, 'grade': 'C'}\n",
            "4 none\n"
          ]
        }
      ]
    },
    {
      "cell_type": "code",
      "source": [
        "students_list = [\n",
        "    {\n",
        "        'name': 'John',\n",
        "        'age': 20,\n",
        "        'grade': 'A'\n",
        "    },\n",
        "    {\n",
        "        'name': 'Jane',\n",
        "        'age': 21,\n",
        "        'grade': 'B'\n",
        "    },\n",
        "    {\n",
        "      'name': 'Bob',\n",
        "      'age': 22,\n",
        "      'grade': 'C'\n",
        "    },\n",
        "    {\n",
        "        'name': 'Alice',\n",
        "        'age': 23,\n",
        "        'grade': 'D'\n",
        "    }\n",
        "]"
      ],
      "metadata": {
        "colab": {
          "base_uri": "https://localhost:8080/"
        },
        "id": "L1Exe04naq2l",
        "outputId": "6c174da8-b826-4abd-db92-d50de66e0913"
      },
      "execution_count": null,
      "outputs": [
        {
          "output_type": "stream",
          "name": "stdout",
          "text": [
            "John\n"
          ]
        }
      ]
    },
    {
      "cell_type": "code",
      "source": [
        "new_dicitionary = {\n",
        "    'name': 'Eve',\n",
        "    'age': 24,\n",
        "    'grade': 'E'\n",
        "}\n",
        "students_list.append(new_dicitionary)\n",
        "print(students_list)\n"
      ],
      "metadata": {
        "colab": {
          "base_uri": "https://localhost:8080/"
        },
        "id": "9YHzsOKza_pu",
        "outputId": "6b5f3d3e-9899-498b-ecdc-fbaa270f4f66"
      },
      "execution_count": null,
      "outputs": [
        {
          "output_type": "stream",
          "name": "stdout",
          "text": [
            "[{'name': 'John', 'age': 20, 'grade': 'A'}, {'name': 'Jane', 'age': 21, 'grade': 'B'}, {'name': 'Bob', 'age': 22, 'grade': 'C'}, {'name': 'Alice', 'age': 23, 'grade': 'D'}, {'name': 'Eve', 'age': 24, 'grade': 'E'}]\n"
          ]
        }
      ]
    }
  ]
}